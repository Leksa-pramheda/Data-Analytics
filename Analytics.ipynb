{
  "nbformat": 4,
  "nbformat_minor": 0,
  "metadata": {
    "colab": {
      "provenance": []
    },
    "kernelspec": {
      "name": "python3",
      "display_name": "Python 3"
    },
    "language_info": {
      "name": "python"
    }
  },
  "cells": [
    {
      "cell_type": "markdown",
      "source": [
        "Файл с данными подгружается предварительно в коллаб для дальнейшего считывания"
      ],
      "metadata": {
        "id": "IRgdlyHc4qea"
      }
    },
    {
      "cell_type": "code",
      "execution_count": null,
      "metadata": {
        "colab": {
          "base_uri": "https://localhost:8080/",
          "height": 206
        },
        "id": "nnQBzh4olKVO",
        "outputId": "a1450e34-2213-467f-ddaa-73fb0624d362"
      },
      "outputs": [
        {
          "output_type": "execute_result",
          "data": {
            "text/plain": [
              "   client_id      sum      status       sale new/current  Unnamed: 5  \\\n",
              "0        NaN      NaN    Май 2021        NaN         NaN         NaN   \n",
              "1        6.0  11693.7  ВНУТРЕННИЙ          -           -         NaN   \n",
              "2      273.0  10133.7    ОПЛАЧЕНО    Петрова     текущая         NaN   \n",
              "3      257.0   5048.7    ОПЛАЧЕНО    Петрова     текущая         NaN   \n",
              "4       73.0   8453.7    ОПЛАЧЕНО  Селиванов     текущая         NaN   \n",
              "\n",
              "   document       receiving_date  \n",
              "0       NaN                  NaN  \n",
              "1         -                    -  \n",
              "2  оригинал  2021-06-01 00:00:00  \n",
              "3  оригинал  2021-06-02 00:00:00  \n",
              "4  оригинал  2021-06-03 00:00:00  "
            ],
            "text/html": [
              "\n",
              "  <div id=\"df-e27ca914-d452-45fe-a434-bfbcb223cd16\" class=\"colab-df-container\">\n",
              "    <div>\n",
              "<style scoped>\n",
              "    .dataframe tbody tr th:only-of-type {\n",
              "        vertical-align: middle;\n",
              "    }\n",
              "\n",
              "    .dataframe tbody tr th {\n",
              "        vertical-align: top;\n",
              "    }\n",
              "\n",
              "    .dataframe thead th {\n",
              "        text-align: right;\n",
              "    }\n",
              "</style>\n",
              "<table border=\"1\" class=\"dataframe\">\n",
              "  <thead>\n",
              "    <tr style=\"text-align: right;\">\n",
              "      <th></th>\n",
              "      <th>client_id</th>\n",
              "      <th>sum</th>\n",
              "      <th>status</th>\n",
              "      <th>sale</th>\n",
              "      <th>new/current</th>\n",
              "      <th>Unnamed: 5</th>\n",
              "      <th>document</th>\n",
              "      <th>receiving_date</th>\n",
              "    </tr>\n",
              "  </thead>\n",
              "  <tbody>\n",
              "    <tr>\n",
              "      <th>0</th>\n",
              "      <td>NaN</td>\n",
              "      <td>NaN</td>\n",
              "      <td>Май 2021</td>\n",
              "      <td>NaN</td>\n",
              "      <td>NaN</td>\n",
              "      <td>NaN</td>\n",
              "      <td>NaN</td>\n",
              "      <td>NaN</td>\n",
              "    </tr>\n",
              "    <tr>\n",
              "      <th>1</th>\n",
              "      <td>6.0</td>\n",
              "      <td>11693.7</td>\n",
              "      <td>ВНУТРЕННИЙ</td>\n",
              "      <td>-</td>\n",
              "      <td>-</td>\n",
              "      <td>NaN</td>\n",
              "      <td>-</td>\n",
              "      <td>-</td>\n",
              "    </tr>\n",
              "    <tr>\n",
              "      <th>2</th>\n",
              "      <td>273.0</td>\n",
              "      <td>10133.7</td>\n",
              "      <td>ОПЛАЧЕНО</td>\n",
              "      <td>Петрова</td>\n",
              "      <td>текущая</td>\n",
              "      <td>NaN</td>\n",
              "      <td>оригинал</td>\n",
              "      <td>2021-06-01 00:00:00</td>\n",
              "    </tr>\n",
              "    <tr>\n",
              "      <th>3</th>\n",
              "      <td>257.0</td>\n",
              "      <td>5048.7</td>\n",
              "      <td>ОПЛАЧЕНО</td>\n",
              "      <td>Петрова</td>\n",
              "      <td>текущая</td>\n",
              "      <td>NaN</td>\n",
              "      <td>оригинал</td>\n",
              "      <td>2021-06-02 00:00:00</td>\n",
              "    </tr>\n",
              "    <tr>\n",
              "      <th>4</th>\n",
              "      <td>73.0</td>\n",
              "      <td>8453.7</td>\n",
              "      <td>ОПЛАЧЕНО</td>\n",
              "      <td>Селиванов</td>\n",
              "      <td>текущая</td>\n",
              "      <td>NaN</td>\n",
              "      <td>оригинал</td>\n",
              "      <td>2021-06-03 00:00:00</td>\n",
              "    </tr>\n",
              "  </tbody>\n",
              "</table>\n",
              "</div>\n",
              "    <div class=\"colab-df-buttons\">\n",
              "\n",
              "  <div class=\"colab-df-container\">\n",
              "    <button class=\"colab-df-convert\" onclick=\"convertToInteractive('df-e27ca914-d452-45fe-a434-bfbcb223cd16')\"\n",
              "            title=\"Convert this dataframe to an interactive table.\"\n",
              "            style=\"display:none;\">\n",
              "\n",
              "  <svg xmlns=\"http://www.w3.org/2000/svg\" height=\"24px\" viewBox=\"0 -960 960 960\">\n",
              "    <path d=\"M120-120v-720h720v720H120Zm60-500h600v-160H180v160Zm220 220h160v-160H400v160Zm0 220h160v-160H400v160ZM180-400h160v-160H180v160Zm440 0h160v-160H620v160ZM180-180h160v-160H180v160Zm440 0h160v-160H620v160Z\"/>\n",
              "  </svg>\n",
              "    </button>\n",
              "\n",
              "  <style>\n",
              "    .colab-df-container {\n",
              "      display:flex;\n",
              "      gap: 12px;\n",
              "    }\n",
              "\n",
              "    .colab-df-convert {\n",
              "      background-color: #E8F0FE;\n",
              "      border: none;\n",
              "      border-radius: 50%;\n",
              "      cursor: pointer;\n",
              "      display: none;\n",
              "      fill: #1967D2;\n",
              "      height: 32px;\n",
              "      padding: 0 0 0 0;\n",
              "      width: 32px;\n",
              "    }\n",
              "\n",
              "    .colab-df-convert:hover {\n",
              "      background-color: #E2EBFA;\n",
              "      box-shadow: 0px 1px 2px rgba(60, 64, 67, 0.3), 0px 1px 3px 1px rgba(60, 64, 67, 0.15);\n",
              "      fill: #174EA6;\n",
              "    }\n",
              "\n",
              "    .colab-df-buttons div {\n",
              "      margin-bottom: 4px;\n",
              "    }\n",
              "\n",
              "    [theme=dark] .colab-df-convert {\n",
              "      background-color: #3B4455;\n",
              "      fill: #D2E3FC;\n",
              "    }\n",
              "\n",
              "    [theme=dark] .colab-df-convert:hover {\n",
              "      background-color: #434B5C;\n",
              "      box-shadow: 0px 1px 3px 1px rgba(0, 0, 0, 0.15);\n",
              "      filter: drop-shadow(0px 1px 2px rgba(0, 0, 0, 0.3));\n",
              "      fill: #FFFFFF;\n",
              "    }\n",
              "  </style>\n",
              "\n",
              "    <script>\n",
              "      const buttonEl =\n",
              "        document.querySelector('#df-e27ca914-d452-45fe-a434-bfbcb223cd16 button.colab-df-convert');\n",
              "      buttonEl.style.display =\n",
              "        google.colab.kernel.accessAllowed ? 'block' : 'none';\n",
              "\n",
              "      async function convertToInteractive(key) {\n",
              "        const element = document.querySelector('#df-e27ca914-d452-45fe-a434-bfbcb223cd16');\n",
              "        const dataTable =\n",
              "          await google.colab.kernel.invokeFunction('convertToInteractive',\n",
              "                                                    [key], {});\n",
              "        if (!dataTable) return;\n",
              "\n",
              "        const docLinkHtml = 'Like what you see? Visit the ' +\n",
              "          '<a target=\"_blank\" href=https://colab.research.google.com/notebooks/data_table.ipynb>data table notebook</a>'\n",
              "          + ' to learn more about interactive tables.';\n",
              "        element.innerHTML = '';\n",
              "        dataTable['output_type'] = 'display_data';\n",
              "        await google.colab.output.renderOutput(dataTable, element);\n",
              "        const docLink = document.createElement('div');\n",
              "        docLink.innerHTML = docLinkHtml;\n",
              "        element.appendChild(docLink);\n",
              "      }\n",
              "    </script>\n",
              "  </div>\n",
              "\n",
              "\n",
              "<div id=\"df-731177de-ae58-42ed-9b66-0f84a1ff1170\">\n",
              "  <button class=\"colab-df-quickchart\" onclick=\"quickchart('df-731177de-ae58-42ed-9b66-0f84a1ff1170')\"\n",
              "            title=\"Suggest charts.\"\n",
              "            style=\"display:none;\">\n",
              "\n",
              "<svg xmlns=\"http://www.w3.org/2000/svg\" height=\"24px\"viewBox=\"0 0 24 24\"\n",
              "     width=\"24px\">\n",
              "    <g>\n",
              "        <path d=\"M19 3H5c-1.1 0-2 .9-2 2v14c0 1.1.9 2 2 2h14c1.1 0 2-.9 2-2V5c0-1.1-.9-2-2-2zM9 17H7v-7h2v7zm4 0h-2V7h2v10zm4 0h-2v-4h2v4z\"/>\n",
              "    </g>\n",
              "</svg>\n",
              "  </button>\n",
              "\n",
              "<style>\n",
              "  .colab-df-quickchart {\n",
              "      --bg-color: #E8F0FE;\n",
              "      --fill-color: #1967D2;\n",
              "      --hover-bg-color: #E2EBFA;\n",
              "      --hover-fill-color: #174EA6;\n",
              "      --disabled-fill-color: #AAA;\n",
              "      --disabled-bg-color: #DDD;\n",
              "  }\n",
              "\n",
              "  [theme=dark] .colab-df-quickchart {\n",
              "      --bg-color: #3B4455;\n",
              "      --fill-color: #D2E3FC;\n",
              "      --hover-bg-color: #434B5C;\n",
              "      --hover-fill-color: #FFFFFF;\n",
              "      --disabled-bg-color: #3B4455;\n",
              "      --disabled-fill-color: #666;\n",
              "  }\n",
              "\n",
              "  .colab-df-quickchart {\n",
              "    background-color: var(--bg-color);\n",
              "    border: none;\n",
              "    border-radius: 50%;\n",
              "    cursor: pointer;\n",
              "    display: none;\n",
              "    fill: var(--fill-color);\n",
              "    height: 32px;\n",
              "    padding: 0;\n",
              "    width: 32px;\n",
              "  }\n",
              "\n",
              "  .colab-df-quickchart:hover {\n",
              "    background-color: var(--hover-bg-color);\n",
              "    box-shadow: 0 1px 2px rgba(60, 64, 67, 0.3), 0 1px 3px 1px rgba(60, 64, 67, 0.15);\n",
              "    fill: var(--button-hover-fill-color);\n",
              "  }\n",
              "\n",
              "  .colab-df-quickchart-complete:disabled,\n",
              "  .colab-df-quickchart-complete:disabled:hover {\n",
              "    background-color: var(--disabled-bg-color);\n",
              "    fill: var(--disabled-fill-color);\n",
              "    box-shadow: none;\n",
              "  }\n",
              "\n",
              "  .colab-df-spinner {\n",
              "    border: 2px solid var(--fill-color);\n",
              "    border-color: transparent;\n",
              "    border-bottom-color: var(--fill-color);\n",
              "    animation:\n",
              "      spin 1s steps(1) infinite;\n",
              "  }\n",
              "\n",
              "  @keyframes spin {\n",
              "    0% {\n",
              "      border-color: transparent;\n",
              "      border-bottom-color: var(--fill-color);\n",
              "      border-left-color: var(--fill-color);\n",
              "    }\n",
              "    20% {\n",
              "      border-color: transparent;\n",
              "      border-left-color: var(--fill-color);\n",
              "      border-top-color: var(--fill-color);\n",
              "    }\n",
              "    30% {\n",
              "      border-color: transparent;\n",
              "      border-left-color: var(--fill-color);\n",
              "      border-top-color: var(--fill-color);\n",
              "      border-right-color: var(--fill-color);\n",
              "    }\n",
              "    40% {\n",
              "      border-color: transparent;\n",
              "      border-right-color: var(--fill-color);\n",
              "      border-top-color: var(--fill-color);\n",
              "    }\n",
              "    60% {\n",
              "      border-color: transparent;\n",
              "      border-right-color: var(--fill-color);\n",
              "    }\n",
              "    80% {\n",
              "      border-color: transparent;\n",
              "      border-right-color: var(--fill-color);\n",
              "      border-bottom-color: var(--fill-color);\n",
              "    }\n",
              "    90% {\n",
              "      border-color: transparent;\n",
              "      border-bottom-color: var(--fill-color);\n",
              "    }\n",
              "  }\n",
              "</style>\n",
              "\n",
              "  <script>\n",
              "    async function quickchart(key) {\n",
              "      const quickchartButtonEl =\n",
              "        document.querySelector('#' + key + ' button');\n",
              "      quickchartButtonEl.disabled = true;  // To prevent multiple clicks.\n",
              "      quickchartButtonEl.classList.add('colab-df-spinner');\n",
              "      try {\n",
              "        const charts = await google.colab.kernel.invokeFunction(\n",
              "            'suggestCharts', [key], {});\n",
              "      } catch (error) {\n",
              "        console.error('Error during call to suggestCharts:', error);\n",
              "      }\n",
              "      quickchartButtonEl.classList.remove('colab-df-spinner');\n",
              "      quickchartButtonEl.classList.add('colab-df-quickchart-complete');\n",
              "    }\n",
              "    (() => {\n",
              "      let quickchartButtonEl =\n",
              "        document.querySelector('#df-731177de-ae58-42ed-9b66-0f84a1ff1170 button');\n",
              "      quickchartButtonEl.style.display =\n",
              "        google.colab.kernel.accessAllowed ? 'block' : 'none';\n",
              "    })();\n",
              "  </script>\n",
              "</div>\n",
              "    </div>\n",
              "  </div>\n"
            ]
          },
          "metadata": {},
          "execution_count": 2
        }
      ],
      "source": [
        "import pandas as pd\n",
        "\n",
        "# считываем данные из файла\n",
        "data = pd.read_excel(\"/content/data.xlsx\")\n",
        "\n",
        "data.head()"
      ]
    },
    {
      "cell_type": "code",
      "source": [
        "data.info()"
      ],
      "metadata": {
        "colab": {
          "base_uri": "https://localhost:8080/"
        },
        "id": "OdCNCXWTloya",
        "outputId": "5a6cf02f-2161-44bd-dec7-bd54bb6f0133"
      },
      "execution_count": null,
      "outputs": [
        {
          "output_type": "stream",
          "name": "stdout",
          "text": [
            "<class 'pandas.core.frame.DataFrame'>\n",
            "RangeIndex: 730 entries, 0 to 729\n",
            "Data columns (total 8 columns):\n",
            " #   Column          Non-Null Count  Dtype  \n",
            "---  ------          --------------  -----  \n",
            " 0   client_id       724 non-null    float64\n",
            " 1   sum             724 non-null    float64\n",
            " 2   status          730 non-null    object \n",
            " 3   sale            724 non-null    object \n",
            " 4   new/current     724 non-null    object \n",
            " 5   Unnamed: 5      0 non-null      float64\n",
            " 6   document        709 non-null    object \n",
            " 7   receiving_date  607 non-null    object \n",
            "dtypes: float64(3), object(5)\n",
            "memory usage: 45.8+ KB\n"
          ]
        }
      ]
    },
    {
      "cell_type": "markdown",
      "source": [
        "Исправляем тип данных для дат"
      ],
      "metadata": {
        "id": "aRlsvBrO44sK"
      }
    },
    {
      "cell_type": "code",
      "source": [
        "data['receiving_date'] = pd.to_datetime(data['receiving_date'], errors='coerce')\n",
        "\n",
        "data.info()"
      ],
      "metadata": {
        "colab": {
          "base_uri": "https://localhost:8080/"
        },
        "id": "b7O0TbfjmqZf",
        "outputId": "f896a362-0f12-409b-9852-f986b2abf5d4"
      },
      "execution_count": null,
      "outputs": [
        {
          "output_type": "stream",
          "name": "stdout",
          "text": [
            "<class 'pandas.core.frame.DataFrame'>\n",
            "RangeIndex: 730 entries, 0 to 729\n",
            "Data columns (total 8 columns):\n",
            " #   Column          Non-Null Count  Dtype         \n",
            "---  ------          --------------  -----         \n",
            " 0   client_id       724 non-null    float64       \n",
            " 1   sum             724 non-null    float64       \n",
            " 2   status          730 non-null    object        \n",
            " 3   sale            724 non-null    object        \n",
            " 4   new/current     724 non-null    object        \n",
            " 5   Unnamed: 5      0 non-null      float64       \n",
            " 6   document        709 non-null    object        \n",
            " 7   receiving_date  606 non-null    datetime64[ns]\n",
            "dtypes: datetime64[ns](1), float64(3), object(4)\n",
            "memory usage: 45.8+ KB\n"
          ]
        }
      ]
    },
    {
      "cell_type": "markdown",
      "source": [
        "Просматриваем возможные статусы. (Пригодится в решении)"
      ],
      "metadata": {
        "id": "qLxmbavv48ZQ"
      }
    },
    {
      "cell_type": "code",
      "source": [
        "data['status'].unique()"
      ],
      "metadata": {
        "colab": {
          "base_uri": "https://localhost:8080/"
        },
        "id": "Ibhdi5uEz81k",
        "outputId": "ba9cbbbd-4aab-4fb6-bc56-eaeb8c83db90"
      },
      "execution_count": null,
      "outputs": [
        {
          "output_type": "execute_result",
          "data": {
            "text/plain": [
              "array(['Май 2021', 'ВНУТРЕННИЙ', 'ОПЛАЧЕНО', 'ПРОСРОЧЕНО', 'Июнь 2021',\n",
              "       'Июль 2021', 'Август 2021', 'В РАБОТЕ', 'Сентябрь 2021',\n",
              "       'Октябрь 2021', 'НА ПОДПИСАНИИ'], dtype=object)"
            ]
          },
          "metadata": {},
          "execution_count": 49
        }
      ]
    },
    {
      "cell_type": "markdown",
      "source": [
        "#1\n",
        "Вычислите общую выручку за июль 2021 по тем сделкам, приход денежных\n",
        "средств которых не просрочен."
      ],
      "metadata": {
        "id": "5rFtkkj8pPpm"
      }
    },
    {
      "cell_type": "markdown",
      "source": [
        "Если подразумевается любой иной статус, кроме Просрочено, то подсчет ведется так"
      ],
      "metadata": {
        "id": "hWkT2Gjfx4f1"
      }
    },
    {
      "cell_type": "code",
      "source": [
        "# фильтруем строки по условиям: месяц = июль, НЕ просрочено\n",
        "filtered_data = data[(data[\"receiving_date\"].dt.month == 7) &\n",
        "                     (data[\"status\"] != \"ПРОСРОЧЕНО\") ]\n",
        "\n",
        "# считаем общую выручку\n",
        "total = filtered_data[\"sum\"].sum()\n",
        "total"
      ],
      "metadata": {
        "colab": {
          "base_uri": "https://localhost:8080/"
        },
        "id": "UM1jdmwOlgvN",
        "outputId": "8dc841bd-94f2-41ea-d514-ec7d92538534"
      },
      "execution_count": null,
      "outputs": [
        {
          "output_type": "execute_result",
          "data": {
            "text/plain": [
              "757830.7399999996"
            ]
          },
          "metadata": {},
          "execution_count": 12
        }
      ]
    },
    {
      "cell_type": "markdown",
      "source": [
        "Если подразумевается, что именно оплачено, то подсчет ведется так"
      ],
      "metadata": {
        "id": "gio1b0W9yeoa"
      }
    },
    {
      "cell_type": "code",
      "source": [
        "# фильтруем строки по условиям: месяц = июль, оплачено\n",
        "filtered_data = data[(data[\"receiving_date\"].dt.month == 7) &\n",
        "                     (data[\"status\"] == \"ОПЛАЧЕНО\") ]\n",
        "\n",
        "# считаем общую выручку\n",
        "total = filtered_data[\"sum\"].sum()\n",
        "total"
      ],
      "metadata": {
        "colab": {
          "base_uri": "https://localhost:8080/"
        },
        "id": "9tunX0VWyTpY",
        "outputId": "87314d3d-136b-4844-a897-1c26e6dd9bd2"
      },
      "execution_count": null,
      "outputs": [
        {
          "output_type": "execute_result",
          "data": {
            "text/plain": [
              "757830.7399999996"
            ]
          },
          "metadata": {},
          "execution_count": 13
        }
      ]
    },
    {
      "cell_type": "markdown",
      "source": [
        "В данном случае они совпали))"
      ],
      "metadata": {
        "id": "7-nJAZeiymsU"
      }
    },
    {
      "cell_type": "markdown",
      "source": [
        "#2\n",
        "Как изменялась выручка компании за рассматриваемый период?\n",
        "Проиллюстрируйте графиком."
      ],
      "metadata": {
        "id": "OX4pxU05mBNy"
      }
    },
    {
      "cell_type": "markdown",
      "source": [
        "Так как выручка подсчитывается в конце месяца обычно, сгруппируем данные по месяцам для наглядности"
      ],
      "metadata": {
        "id": "tMmDvHMmzH2S"
      }
    },
    {
      "cell_type": "code",
      "source": [
        "import matplotlib.pyplot as plt\n",
        "\n",
        "# группируем данные по месяцам и считаем сумму выручки\n",
        "income_by_month = data.groupby(data[\"receiving_date\"].dt.to_period(\"M\"))[\"sum\"].sum()\n",
        "\n",
        "# строим график\n",
        "plt.plot(income_by_month.values)\n",
        "plt.xlabel(\"Месяц\")\n",
        "plt.ylabel(\"Выручка, руб.\")\n",
        "plt.title(\"Изменение выручки компании за период\")\n",
        "plt.show()"
      ],
      "metadata": {
        "colab": {
          "base_uri": "https://localhost:8080/",
          "height": 472
        },
        "id": "dL3DsBOVl7oq",
        "outputId": "0e605064-8398-4a09-af94-e9c13d8f3bef"
      },
      "execution_count": null,
      "outputs": [
        {
          "output_type": "display_data",
          "data": {
            "text/plain": [
              "<Figure size 640x480 with 1 Axes>"
            ],
            "image/png": "[encoded data removed]"
          },
          "metadata": {}
        }
      ]
    },
    {
      "cell_type": "markdown",
      "source": [
        "#3\n",
        "Кто из менеджеров привлек для компании больше всего денежных средств в\n",
        "сентябре 2021?"
      ],
      "metadata": {
        "id": "lVCPG73GmFsH"
      }
    },
    {
      "cell_type": "code",
      "source": [
        "# фильтруем строки по условиям месяц = сентябрь\n",
        "filtered_data = data[(data[\"receiving_date\"].dt.month == 9) ]\n",
        "\n",
        "# считаем сумму выручки для каждого менеджера\n",
        "income_manager = filtered_data.groupby(\"sale\")[\"sum\"].sum()\n",
        "\n",
        "# выбираем менеджера с наибольшей выручкой\n",
        "best_manager = income_manager.idxmax()\n",
        "best_manager"
      ],
      "metadata": {
        "colab": {
          "base_uri": "https://localhost:8080/",
          "height": 36
        },
        "id": "Pyby9_6xmHM5",
        "outputId": "980fea30-ada5-49c6-d164-ce23ff52925f"
      },
      "execution_count": null,
      "outputs": [
        {
          "output_type": "execute_result",
          "data": {
            "text/plain": [
              "'Петрова'"
            ],
            "application/vnd.google.colaboratory.intrinsic+json": {
              "type": "string"
            }
          },
          "metadata": {},
          "execution_count": 15
        }
      ]
    },
    {
      "cell_type": "markdown",
      "source": [
        "#4\n",
        "Какой тип сделок (новая/текущая) был преобладающим в октябре 2021?"
      ],
      "metadata": {
        "id": "P2Z5JEIdmJwm"
      }
    },
    {
      "cell_type": "code",
      "source": [
        "# фильтруем строки по условиям месяц = октябрь\n",
        "filtered_data = data[(data[\"receiving_date\"].dt.month == 10)]\n",
        "\n",
        "# считаем количество строк для каждого типа сделок\n",
        "counted = filtered_data[\"new/current\"].value_counts()\n",
        "\n",
        "# выбираем тип сделок, который встречается чаще\n",
        "more = counted.idxmax()\n",
        "more"
      ],
      "metadata": {
        "colab": {
          "base_uri": "https://localhost:8080/",
          "height": 36
        },
        "id": "30kVdHrBmKur",
        "outputId": "2030b632-f8c5-4709-b8ac-6e1888375a5f"
      },
      "execution_count": null,
      "outputs": [
        {
          "output_type": "execute_result",
          "data": {
            "text/plain": [
              "'текущая'"
            ],
            "application/vnd.google.colaboratory.intrinsic+json": {
              "type": "string"
            }
          },
          "metadata": {},
          "execution_count": 16
        }
      ]
    },
    {
      "cell_type": "markdown",
      "source": [
        "#5\n",
        "Сколько оригиналов договора по майским сделкам было получено в июне 2021?"
      ],
      "metadata": {
        "id": "NfwSRAW8mM07"
      }
    },
    {
      "cell_type": "markdown",
      "source": [
        "Если правильно поняла интерпретацию статусов, то на его основе получаем информацию о конкретной сделке"
      ],
      "metadata": {
        "id": "kbvwiC7n1Xck"
      }
    },
    {
      "cell_type": "code",
      "source": [
        "# фильтруем строки по условиям месяц = июнь\n",
        "filtered_data = data[(data[\"receiving_date\"].dt.month == 5) &\n",
        "                (data['status'] == 'Май 2021')]\n",
        "\n",
        "# считаем количество строк\n",
        "counted = len(filtered_data)\n",
        "counted"
      ],
      "metadata": {
        "colab": {
          "base_uri": "https://localhost:8080/"
        },
        "id": "TfgQElFQmOft",
        "outputId": "751b925f-86de-4f1d-b3e5-03cc80ca358f"
      },
      "execution_count": null,
      "outputs": [
        {
          "output_type": "execute_result",
          "data": {
            "text/plain": [
              "0"
            ]
          },
          "metadata": {},
          "execution_count": 19
        }
      ]
    },
    {
      "cell_type": "markdown",
      "source": [
        "#Final task\n",
        "За каждую заключенную сделку менеджер получает бонус, который рассчитывается\n",
        "следующим образом.\n",
        "\n",
        "1) За новые сделки менеджер получает 7 % от суммы, при условии, что статус\n",
        "оплаты «ОПЛАЧЕНО», а также имеется оригинал подписанного договора с\n",
        "клиентом (в рассматриваемом месяце).\n",
        "\n",
        "2) За текущие сделки менеджер получает 5 % от суммы, если она больше 10 тыс.,\n",
        "и 3 % от суммы, если меньше. При этом статус оплаты может быть любым,\n",
        "кроме «ПРОСРОЧЕНО», а также необходимо наличие оригинала подписанного\n",
        "договора с клиентом (в рассматриваемом месяце).\n",
        "\n",
        "Бонусы по сделкам, оригиналы для которых приходят позже рассматриваемого\n",
        "месяца, считаются остатком на следующий период, который выплачивается по мере\n",
        "прихода оригиналов. Вычислите остаток каждого из менеджеров на 01.07.2021."
      ],
      "metadata": {
        "id": "8oI2ZS52mQRZ"
      }
    },
    {
      "cell_type": "markdown",
      "source": [
        "Если правильно поняла, то остаток считатется как разность между потенциальным максимальным бонусом (у всех сделок есть оригинал договора) и реальным бонусом (реальное наличие оригинала договора)"
      ],
      "metadata": {
        "id": "olgRRRcL103N"
      }
    },
    {
      "cell_type": "code",
      "source": [
        "# функция для расчета реальных бонусов по сделкам\n",
        "def real_bonus(row):\n",
        "\n",
        "  #фильтруем по условиям с наличием договора и, в случае Новой сделки, статуса Оплачено,\n",
        "    if row[\"new/current\"] == \"новая\" and row[\"status\"] == \"ОПЛАЧЕНО\" and row[\"document\"]:\n",
        "        return row[\"sum\"] * 0.07\n",
        "\n",
        "  # а в случае Текущей в зависимости от величины суммы\n",
        "    elif row[\"new/current\"] == \"текущая\" and row[\"document\"]:\n",
        "        if row[\"sum\"] > 10000:\n",
        "            return row[\"sum\"] * 0.05\n",
        "        else:\n",
        "            return row[\"sum\"] * 0.03\n",
        "    else:\n",
        "        return 0\n",
        "\n",
        "# фильтруем строки по условиям месяц = 6 (так как нужно до 01.07), наличие договора и не просрочено\n",
        "filtered_data_real = data[(data[\"receiving_date\"].dt.month == 6) &\n",
        "                 (data[\"status\"] != \"ПРОСРОЧЕНО\") &\n",
        "                 (data[\"document\"])]\n",
        "\n",
        "# добавляем новый столбец с бонусами\n",
        "filtered_data_real[\"bonus\"] = filtered_data_real.apply(real_bonus, axis=1)\n",
        "\n",
        "# группируем данные по менеджерам и считаем сумму бонусов\n",
        "bonus = pd.DataFrame({'bonus' : filtered_data_real.groupby(\"sale\")[\"bonus\"].sum()}).reset_index()\n",
        "\n",
        "# функция для расчета потенциальных бонусов по сделкам\n",
        "def potential_bonus(row):\n",
        "\n",
        "  #фильтруем по условиям в случае Новой сделки, статус при этом любой\n",
        "    if row[\"new/current\"] == \"новая\" :\n",
        "        return row[\"sum\"] * 0.07\n",
        "\n",
        "  # а в случае Текущей в зависимости от величины суммы\n",
        "    elif row[\"new/current\"] == \"текущая\" :\n",
        "        if row[\"sum\"] > 10000:\n",
        "            return row[\"sum\"] * 0.05\n",
        "        else:\n",
        "            return row[\"sum\"] * 0.03\n",
        "    else:\n",
        "        return 0\n",
        "\n",
        "# фильтруем строки по условиям месяц = 6, статус любой!\n",
        "potential_data = data[(data[\"receiving_date\"].dt.month == 6)]\n",
        "\n",
        "# добавляем новый столбец с бонусами\n",
        "potential_data[\"potential_bonus\"] = potential_data.apply(potential_bonus, axis=1)\n",
        "\n",
        "# группируем данные по менеджерам и считаем сумму всех бонусов\n",
        "potential_bonus = pd.DataFrame({'potential_bonus' : potential_data.groupby(\"sale\")[\"potential_bonus\"].sum()}).reset_index()\n",
        "\n",
        "#совмещаем (джойним) полученные данные по колонке менеджеров\n",
        "merged = pd.merge(bonus, potential_bonus, on='sale')\n",
        "\n",
        "#считаем остаток, путем вычетания соответствующих потенциальных и реальных бонусов\n",
        "merged['rest'] = merged['potential_bonus'] - merged['bonus']\n",
        "\n",
        "print(merged)"
      ],
      "metadata": {
        "colab": {
          "base_uri": "https://localhost:8080/"
        },
        "id": "cmS9AEvXmRp8",
        "outputId": "8e6ecf8d-169e-44d7-c2d4-7ca086490884"
      },
      "execution_count": null,
      "outputs": [
        {
          "output_type": "stream",
          "name": "stdout",
          "text": [
            "         sale      bonus  potential_bonus     rest\n",
            "0     Андреев  2962.1717        2962.1717    0.000\n",
            "1    Васильев   339.2310         339.2310    0.000\n",
            "2      Иванов  2503.8390        2503.8390    0.000\n",
            "3   Кузнецова  2604.6716        2604.6716    0.000\n",
            "4     Петрова  7028.8020        7028.8020    0.000\n",
            "5   Селиванов   353.3220         353.3220    0.000\n",
            "6     Смирнов  4078.7240        4775.1330  696.409\n",
            "7  Филимонова   306.0720         306.0720    0.000\n"
          ]
        },
        {
          "output_type": "stream",
          "name": "stderr",
          "text": [
            "<ipython-input-20-ab7ef1bac04c>:23: SettingWithCopyWarning: \n",
            "A value is trying to be set on a copy of a slice from a DataFrame.\n",
            "Try using .loc[row_indexer,col_indexer] = value instead\n",
            "\n",
            "See the caveats in the documentation: https://pandas.pydata.org/pandas-docs/stable/user_guide/indexing.html#returning-a-view-versus-a-copy\n",
            "  filtered_data_real[\"bonus\"] = filtered_data_real.apply(real_bonus, axis=1)\n",
            "<ipython-input-20-ab7ef1bac04c>:48: SettingWithCopyWarning: \n",
            "A value is trying to be set on a copy of a slice from a DataFrame.\n",
            "Try using .loc[row_indexer,col_indexer] = value instead\n",
            "\n",
            "See the caveats in the documentation: https://pandas.pydata.org/pandas-docs/stable/user_guide/indexing.html#returning-a-view-versus-a-copy\n",
            "  potential_data[\"potential_bonus\"] = potential_data.apply(potential_bonus, axis=1)\n"
          ]
        }
      ]
    }
  ]
}